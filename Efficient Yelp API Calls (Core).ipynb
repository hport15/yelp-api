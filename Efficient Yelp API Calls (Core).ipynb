{
 "cells": [
  {
   "cell_type": "markdown",
   "id": "46ababb9",
   "metadata": {},
   "source": [
    "As before, you will use the Yelp API to search your favorite city for a cuisine type of your choice.\n",
    "\n",
    "Extract all of the results from your search and compile them into one dataframe using a for loop as shown in the lesson \"Code for Efficient API Extraction\"\n",
    "\n",
    "Save your notebook, commit the change to your repository and submit the repository URL for this assignment."
   ]
  },
  {
   "cell_type": "code",
   "execution_count": 1,
   "id": "3c6bfddf",
   "metadata": {},
   "outputs": [],
   "source": [
    "import numpy as np\n",
    "import pandas as pd\n",
    "\n",
    "import os, time, math, json\n",
    "from yelpapi import YelpAPI\n",
    "from tqdm.notebook import tqdm_notebook"
   ]
  },
  {
   "cell_type": "code",
   "execution_count": 2,
   "id": "3422bbfb",
   "metadata": {},
   "outputs": [
    {
     "data": {
      "text/plain": [
       "dict_keys(['client-id', 'api-key'])"
      ]
     },
     "execution_count": 2,
     "metadata": {},
     "output_type": "execute_result"
    }
   ],
   "source": [
    "# api credentials\n",
    "with open('/Users/hkim1297/.secret/yelp_api.json') as f:\n",
    "    login = json.load(f)\n",
    "login.keys()"
   ]
  },
  {
   "cell_type": "code",
   "execution_count": 3,
   "id": "3eeb1b15",
   "metadata": {},
   "outputs": [],
   "source": [
    "# instantiate YelpAPI variable\n",
    "yelpApi = YelpAPI(login['api-key'], timeout_s=5.0)"
   ]
  },
  {
   "cell_type": "code",
   "execution_count": 5,
   "id": "ff6043aa",
   "metadata": {},
   "outputs": [],
   "source": [
    "# variables for query parameters\n",
    "LOCATION = \"Malibu, CA\"\n",
    "TERM = \"Brunch\""
   ]
  },
  {
   "cell_type": "code",
   "execution_count": 18,
   "id": "7b1113fe",
   "metadata": {},
   "outputs": [
    {
     "data": {
      "text/plain": [
       "'Data/results_in_progress_brunch.json'"
      ]
     },
     "execution_count": 18,
     "metadata": {},
     "output_type": "execute_result"
    }
   ],
   "source": [
    "# name of json file to be created\n",
    "# NOTE: use different file name for each search query; include search terms in name\n",
    "JSON_FILE = f\"Data/results_in_progress_brunch.json\"\n",
    "JSON_FILE"
   ]
  },
  {
   "cell_type": "code",
   "execution_count": 19,
   "id": "e443e64b",
   "metadata": {},
   "outputs": [
    {
     "name": "stdout",
     "output_type": "stream",
     "text": [
      "[i] Data/results_in_progress_brunch.json not found. Saving empty list to file.\n"
     ]
    }
   ],
   "source": [
    "# check if file already exists; if not, make it\n",
    "fileExists = os.path.isfile(JSON_FILE)\n",
    "if fileExists == False:\n",
    "    # get folder name\n",
    "    folder = os.path.dirname(JSON_FILE)\n",
    "    # if it had a folder, make it\n",
    "    if len(folder) > 0:\n",
    "        os.makedirs(folder, exist_ok=True)\n",
    "    # inform user and save empty list\n",
    "    print(f\"[i] {JSON_FILE} not found. Saving empty list to file.\")\n",
    "    \n",
    "    # save first page of results\n",
    "    with open(JSON_FILE, 'w') as f:\n",
    "        json.dump([],f)\n",
    "        \n",
    "# if it already exists        \n",
    "else:\n",
    "    print(f\"[i] {JSON_FILE} already exists.\")"
   ]
  },
  {
   "cell_type": "code",
   "execution_count": 20,
   "id": "8603f8f5",
   "metadata": {},
   "outputs": [
    {
     "name": "stdout",
     "output_type": "stream",
     "text": [
      "-0 previous results found.\n"
     ]
    }
   ],
   "source": [
    "# load previous results and use amount as offset\n",
    "with open(JSON_FILE, 'r') as f:\n",
    "    prevResults = json.load(f)\n",
    "\n",
    "# set offset\n",
    "nResults = len(prevResults)\n",
    "print(f\"-{nResults} previous results found.\")"
   ]
  },
  {
   "cell_type": "code",
   "execution_count": 21,
   "id": "f9cbe2c5",
   "metadata": {},
   "outputs": [
    {
     "data": {
      "text/plain": [
       "dict_keys(['businesses', 'total', 'region'])"
      ]
     },
     "execution_count": 21,
     "metadata": {},
     "output_type": "execute_result"
    }
   ],
   "source": [
    "# make api call to find businesses\n",
    "results = yelpApi.search_query(location=LOCATION,\n",
    "                              term=TERM,\n",
    "                              offset=nResults)\n",
    "results.keys()"
   ]
  },
  {
   "cell_type": "code",
   "execution_count": 22,
   "id": "34145296",
   "metadata": {},
   "outputs": [
    {
     "data": {
      "text/plain": [
       "2800"
      ]
     },
     "execution_count": 22,
     "metadata": {},
     "output_type": "execute_result"
    }
   ],
   "source": [
    "# total results\n",
    "results['total']"
   ]
  },
  {
   "cell_type": "code",
   "execution_count": 23,
   "id": "fc1bde78",
   "metadata": {},
   "outputs": [
    {
     "data": {
      "text/plain": [
       "20"
      ]
     },
     "execution_count": 23,
     "metadata": {},
     "output_type": "execute_result"
    }
   ],
   "source": [
    "# results per page\n",
    "resultsPerPage = len(results['businesses'])\n",
    "resultsPerPage"
   ]
  },
  {
   "cell_type": "code",
   "execution_count": 24,
   "id": "e9e8435b",
   "metadata": {},
   "outputs": [
    {
     "data": {
      "text/plain": [
       "140"
      ]
     },
     "execution_count": 24,
     "metadata": {},
     "output_type": "execute_result"
    }
   ],
   "source": [
    "# calculate total # of pages\n",
    "nPages = math.ceil((results['total'] - nResults)/resultsPerPage)\n",
    "nPages"
   ]
  },
  {
   "cell_type": "code",
   "execution_count": 25,
   "id": "4440521d",
   "metadata": {},
   "outputs": [],
   "source": [
    "# add first page of results to file\n",
    "prevResults.extend(results['businesses'])\n",
    "with open(JSON_FILE, 'w') as f:\n",
    "    json.dump(prevResults, f)"
   ]
  },
  {
   "cell_type": "code",
   "execution_count": 26,
   "id": "d4a27368",
   "metadata": {},
   "outputs": [
    {
     "data": {
      "application/vnd.jupyter.widget-view+json": {
       "model_id": "0dfeb5df641448a89a52314efaa67171",
       "version_major": 2,
       "version_minor": 0
      },
      "text/plain": [
       "  0%|          | 0/48 [00:00<?, ?it/s]"
      ]
     },
     "metadata": {},
     "output_type": "display_data"
    }
   ],
   "source": [
    "# for loop to call each page w/progress bar\n",
    "for i in tqdm_notebook(range(1, 49)):\n",
    "    time.sleep(.1) # adding 100ms pause in between loops\n",
    "    # read in results to progress file\n",
    "    with open(JSON_FILE, 'r') as f:\n",
    "        prevResults = json.load(f)\n",
    "    # save # of results as offset\n",
    "    nResults = len(prevResults)\n",
    "    results = yelpApi.search_query(location=LOCATION,\n",
    "                                  term=TERM,\n",
    "                                  offset=nResults)\n",
    "    # add results to file and save\n",
    "    prevResults.extend(results['businesses'])\n",
    "    with open(JSON_FILE, 'w') as f:\n",
    "        json.dump(prevResults, f)"
   ]
  },
  {
   "cell_type": "code",
   "execution_count": 28,
   "id": "9430c264",
   "metadata": {},
   "outputs": [
    {
     "data": {
      "text/html": [
       "<div>\n",
       "<style scoped>\n",
       "    .dataframe tbody tr th:only-of-type {\n",
       "        vertical-align: middle;\n",
       "    }\n",
       "\n",
       "    .dataframe tbody tr th {\n",
       "        vertical-align: top;\n",
       "    }\n",
       "\n",
       "    .dataframe thead th {\n",
       "        text-align: right;\n",
       "    }\n",
       "</style>\n",
       "<table border=\"1\" class=\"dataframe\">\n",
       "  <thead>\n",
       "    <tr style=\"text-align: right;\">\n",
       "      <th></th>\n",
       "      <th>id</th>\n",
       "      <th>alias</th>\n",
       "      <th>name</th>\n",
       "      <th>image_url</th>\n",
       "      <th>is_closed</th>\n",
       "      <th>url</th>\n",
       "      <th>review_count</th>\n",
       "      <th>categories</th>\n",
       "      <th>rating</th>\n",
       "      <th>coordinates</th>\n",
       "      <th>transactions</th>\n",
       "      <th>price</th>\n",
       "      <th>location</th>\n",
       "      <th>phone</th>\n",
       "      <th>display_phone</th>\n",
       "      <th>distance</th>\n",
       "    </tr>\n",
       "  </thead>\n",
       "  <tbody>\n",
       "    <tr>\n",
       "      <th>0</th>\n",
       "      <td>IthDXFYZW1f5PRseK4sEVw</td>\n",
       "      <td>geoffreys-malibu-malibu</td>\n",
       "      <td>Geoffrey's Malibu</td>\n",
       "      <td>https://s3-media1.fl.yelpcdn.com/bphoto/cYCRFS...</td>\n",
       "      <td>False</td>\n",
       "      <td>https://www.yelp.com/biz/geoffreys-malibu-mali...</td>\n",
       "      <td>3094</td>\n",
       "      <td>[{'alias': 'seafood', 'title': 'Seafood'}, {'a...</td>\n",
       "      <td>4.0</td>\n",
       "      <td>{'latitude': 34.025366, 'longitude': -118.769838}</td>\n",
       "      <td>[]</td>\n",
       "      <td>$$$</td>\n",
       "      <td>{'address1': '27400 Pacific Coast Hwy', 'addre...</td>\n",
       "      <td>+13104571519</td>\n",
       "      <td>(310) 457-1519</td>\n",
       "      <td>1699.051902</td>\n",
       "    </tr>\n",
       "    <tr>\n",
       "      <th>1</th>\n",
       "      <td>ih1OaYQh2kP3UTNHTpIHug</td>\n",
       "      <td>malibu-farm-pier-cafe-malibu</td>\n",
       "      <td>Malibu Farm Pier Cafe</td>\n",
       "      <td>https://s3-media1.fl.yelpcdn.com/bphoto/3UPlD3...</td>\n",
       "      <td>False</td>\n",
       "      <td>https://www.yelp.com/biz/malibu-farm-pier-cafe...</td>\n",
       "      <td>1814</td>\n",
       "      <td>[{'alias': 'cafes', 'title': 'Cafes'}, {'alias...</td>\n",
       "      <td>4.0</td>\n",
       "      <td>{'latitude': 34.0356057756051, 'longitude': -1...</td>\n",
       "      <td>[]</td>\n",
       "      <td>$$</td>\n",
       "      <td>{'address1': '23000 Pacific Coast Hwy', 'addre...</td>\n",
       "      <td>+13104561112</td>\n",
       "      <td>(310) 456-1112</td>\n",
       "      <td>7226.446724</td>\n",
       "    </tr>\n",
       "    <tr>\n",
       "      <th>2</th>\n",
       "      <td>jutotRocXcPydWEcHALmHA</td>\n",
       "      <td>sparrow-cafe-malibu</td>\n",
       "      <td>Sparrow Cafe</td>\n",
       "      <td>https://s3-media2.fl.yelpcdn.com/bphoto/ztpDOB...</td>\n",
       "      <td>False</td>\n",
       "      <td>https://www.yelp.com/biz/sparrow-cafe-malibu?a...</td>\n",
       "      <td>34</td>\n",
       "      <td>[{'alias': 'coffee', 'title': 'Coffee &amp; Tea'},...</td>\n",
       "      <td>4.5</td>\n",
       "      <td>{'latitude': 34.0385280804322, 'longitude': -1...</td>\n",
       "      <td>[]</td>\n",
       "      <td>$$</td>\n",
       "      <td>{'address1': '23847 Stuart Ranch Rd', 'address...</td>\n",
       "      <td>+13104563313</td>\n",
       "      <td>(310) 456-3313</td>\n",
       "      <td>5698.149673</td>\n",
       "    </tr>\n",
       "    <tr>\n",
       "      <th>3</th>\n",
       "      <td>G7BS2pFbis1KJTcHnIXI3g</td>\n",
       "      <td>the-sunset-restaurant-malibu</td>\n",
       "      <td>The Sunset Restaurant</td>\n",
       "      <td>https://s3-media3.fl.yelpcdn.com/bphoto/LJ2DK-...</td>\n",
       "      <td>False</td>\n",
       "      <td>https://www.yelp.com/biz/the-sunset-restaurant...</td>\n",
       "      <td>1495</td>\n",
       "      <td>[{'alias': 'newamerican', 'title': 'American (...</td>\n",
       "      <td>4.0</td>\n",
       "      <td>{'latitude': 34.01155, 'longitude': -118.817}</td>\n",
       "      <td>[pickup]</td>\n",
       "      <td>$$</td>\n",
       "      <td>{'address1': '6800 Westward Beach Rd', 'addres...</td>\n",
       "      <td>+13105891007</td>\n",
       "      <td>(310) 589-1007</td>\n",
       "      <td>6271.082781</td>\n",
       "    </tr>\n",
       "    <tr>\n",
       "      <th>4</th>\n",
       "      <td>tU1I5sBwyIY9ikF5kyCSOg</td>\n",
       "      <td>ollo-malibu</td>\n",
       "      <td>Ollo</td>\n",
       "      <td>https://s3-media1.fl.yelpcdn.com/bphoto/P8wJeP...</td>\n",
       "      <td>False</td>\n",
       "      <td>https://www.yelp.com/biz/ollo-malibu?adjust_cr...</td>\n",
       "      <td>850</td>\n",
       "      <td>[{'alias': 'newamerican', 'title': 'American (...</td>\n",
       "      <td>4.0</td>\n",
       "      <td>{'latitude': 34.03423676539962, 'longitude': -...</td>\n",
       "      <td>[]</td>\n",
       "      <td>$$</td>\n",
       "      <td>{'address1': '23755 Malibu Rd', 'address2': ''...</td>\n",
       "      <td>+13103171444</td>\n",
       "      <td>(310) 317-1444</td>\n",
       "      <td>5578.536633</td>\n",
       "    </tr>\n",
       "  </tbody>\n",
       "</table>\n",
       "</div>"
      ],
      "text/plain": [
       "                       id                         alias  \\\n",
       "0  IthDXFYZW1f5PRseK4sEVw       geoffreys-malibu-malibu   \n",
       "1  ih1OaYQh2kP3UTNHTpIHug  malibu-farm-pier-cafe-malibu   \n",
       "2  jutotRocXcPydWEcHALmHA           sparrow-cafe-malibu   \n",
       "3  G7BS2pFbis1KJTcHnIXI3g  the-sunset-restaurant-malibu   \n",
       "4  tU1I5sBwyIY9ikF5kyCSOg                   ollo-malibu   \n",
       "\n",
       "                    name                                          image_url  \\\n",
       "0      Geoffrey's Malibu  https://s3-media1.fl.yelpcdn.com/bphoto/cYCRFS...   \n",
       "1  Malibu Farm Pier Cafe  https://s3-media1.fl.yelpcdn.com/bphoto/3UPlD3...   \n",
       "2           Sparrow Cafe  https://s3-media2.fl.yelpcdn.com/bphoto/ztpDOB...   \n",
       "3  The Sunset Restaurant  https://s3-media3.fl.yelpcdn.com/bphoto/LJ2DK-...   \n",
       "4                   Ollo  https://s3-media1.fl.yelpcdn.com/bphoto/P8wJeP...   \n",
       "\n",
       "   is_closed                                                url  review_count  \\\n",
       "0      False  https://www.yelp.com/biz/geoffreys-malibu-mali...          3094   \n",
       "1      False  https://www.yelp.com/biz/malibu-farm-pier-cafe...          1814   \n",
       "2      False  https://www.yelp.com/biz/sparrow-cafe-malibu?a...            34   \n",
       "3      False  https://www.yelp.com/biz/the-sunset-restaurant...          1495   \n",
       "4      False  https://www.yelp.com/biz/ollo-malibu?adjust_cr...           850   \n",
       "\n",
       "                                          categories  rating  \\\n",
       "0  [{'alias': 'seafood', 'title': 'Seafood'}, {'a...     4.0   \n",
       "1  [{'alias': 'cafes', 'title': 'Cafes'}, {'alias...     4.0   \n",
       "2  [{'alias': 'coffee', 'title': 'Coffee & Tea'},...     4.5   \n",
       "3  [{'alias': 'newamerican', 'title': 'American (...     4.0   \n",
       "4  [{'alias': 'newamerican', 'title': 'American (...     4.0   \n",
       "\n",
       "                                         coordinates transactions price  \\\n",
       "0  {'latitude': 34.025366, 'longitude': -118.769838}           []   $$$   \n",
       "1  {'latitude': 34.0356057756051, 'longitude': -1...           []    $$   \n",
       "2  {'latitude': 34.0385280804322, 'longitude': -1...           []    $$   \n",
       "3      {'latitude': 34.01155, 'longitude': -118.817}     [pickup]    $$   \n",
       "4  {'latitude': 34.03423676539962, 'longitude': -...           []    $$   \n",
       "\n",
       "                                            location         phone  \\\n",
       "0  {'address1': '27400 Pacific Coast Hwy', 'addre...  +13104571519   \n",
       "1  {'address1': '23000 Pacific Coast Hwy', 'addre...  +13104561112   \n",
       "2  {'address1': '23847 Stuart Ranch Rd', 'address...  +13104563313   \n",
       "3  {'address1': '6800 Westward Beach Rd', 'addres...  +13105891007   \n",
       "4  {'address1': '23755 Malibu Rd', 'address2': ''...  +13103171444   \n",
       "\n",
       "    display_phone     distance  \n",
       "0  (310) 457-1519  1699.051902  \n",
       "1  (310) 456-1112  7226.446724  \n",
       "2  (310) 456-3313  5698.149673  \n",
       "3  (310) 589-1007  6271.082781  \n",
       "4  (310) 317-1444  5578.536633  "
      ]
     },
     "metadata": {},
     "output_type": "display_data"
    },
    {
     "data": {
      "text/html": [
       "<div>\n",
       "<style scoped>\n",
       "    .dataframe tbody tr th:only-of-type {\n",
       "        vertical-align: middle;\n",
       "    }\n",
       "\n",
       "    .dataframe tbody tr th {\n",
       "        vertical-align: top;\n",
       "    }\n",
       "\n",
       "    .dataframe thead th {\n",
       "        text-align: right;\n",
       "    }\n",
       "</style>\n",
       "<table border=\"1\" class=\"dataframe\">\n",
       "  <thead>\n",
       "    <tr style=\"text-align: right;\">\n",
       "      <th></th>\n",
       "      <th>id</th>\n",
       "      <th>alias</th>\n",
       "      <th>name</th>\n",
       "      <th>image_url</th>\n",
       "      <th>is_closed</th>\n",
       "      <th>url</th>\n",
       "      <th>review_count</th>\n",
       "      <th>categories</th>\n",
       "      <th>rating</th>\n",
       "      <th>coordinates</th>\n",
       "      <th>transactions</th>\n",
       "      <th>price</th>\n",
       "      <th>location</th>\n",
       "      <th>phone</th>\n",
       "      <th>display_phone</th>\n",
       "      <th>distance</th>\n",
       "    </tr>\n",
       "  </thead>\n",
       "  <tbody>\n",
       "    <tr>\n",
       "      <th>975</th>\n",
       "      <td>_sla9w3jpglCnRQ7wqE_JA</td>\n",
       "      <td>funnel-mill-santa-monica-3</td>\n",
       "      <td>Funnel Mill</td>\n",
       "      <td>https://s3-media4.fl.yelpcdn.com/bphoto/B6SXwV...</td>\n",
       "      <td>False</td>\n",
       "      <td>https://www.yelp.com/biz/funnel-mill-santa-mon...</td>\n",
       "      <td>758</td>\n",
       "      <td>[{'alias': 'coffee', 'title': 'Coffee &amp; Tea'}]</td>\n",
       "      <td>4.5</td>\n",
       "      <td>{'latitude': 34.0194183, 'longitude': -118.488...</td>\n",
       "      <td>[pickup, delivery]</td>\n",
       "      <td>$$</td>\n",
       "      <td>{'address1': '930 Broadway', 'address2': 'Ste ...</td>\n",
       "      <td>+13103931617</td>\n",
       "      <td>(310) 393-1617</td>\n",
       "      <td>24560.965989</td>\n",
       "    </tr>\n",
       "    <tr>\n",
       "      <th>976</th>\n",
       "      <td>mlpe75EZ88Lvf-vw7fckYg</td>\n",
       "      <td>cronies-sports-grill-agoura-hills</td>\n",
       "      <td>Cronies Sports Grill</td>\n",
       "      <td>https://s3-media3.fl.yelpcdn.com/bphoto/Tcjn87...</td>\n",
       "      <td>False</td>\n",
       "      <td>https://www.yelp.com/biz/cronies-sports-grill-...</td>\n",
       "      <td>246</td>\n",
       "      <td>[{'alias': 'tradamerican', 'title': 'American ...</td>\n",
       "      <td>3.5</td>\n",
       "      <td>{'latitude': 34.15421, 'longitude': -118.75876}</td>\n",
       "      <td>[pickup, delivery]</td>\n",
       "      <td>$$</td>\n",
       "      <td>{'address1': '5687 Kanan Rd', 'address2': '', ...</td>\n",
       "      <td>+18188890889</td>\n",
       "      <td>(818) 889-0889</td>\n",
       "      <td>13469.274948</td>\n",
       "    </tr>\n",
       "    <tr>\n",
       "      <th>977</th>\n",
       "      <td>50nZ4jdBYe6AuN0r3--KWg</td>\n",
       "      <td>turquoise-restaurant-redondo-beach</td>\n",
       "      <td>Turquoise Restaurant</td>\n",
       "      <td>https://s3-media1.fl.yelpcdn.com/bphoto/eX26Om...</td>\n",
       "      <td>False</td>\n",
       "      <td>https://www.yelp.com/biz/turquoise-restaurant-...</td>\n",
       "      <td>664</td>\n",
       "      <td>[{'alias': 'mediterranean', 'title': 'Mediterr...</td>\n",
       "      <td>4.5</td>\n",
       "      <td>{'latitude': 33.8173044046163, 'longitude': -1...</td>\n",
       "      <td>[pickup]</td>\n",
       "      <td>$$</td>\n",
       "      <td>{'address1': '1735 S Catalina Ave', 'address2'...</td>\n",
       "      <td>+13103733234</td>\n",
       "      <td>(310) 373-3234</td>\n",
       "      <td>41428.278838</td>\n",
       "    </tr>\n",
       "    <tr>\n",
       "      <th>978</th>\n",
       "      <td>xYdqVZtjXPv6M5Gd5pTQIQ</td>\n",
       "      <td>tom-tom-west-hollywood</td>\n",
       "      <td>Tom Tom</td>\n",
       "      <td>https://s3-media3.fl.yelpcdn.com/bphoto/deVMvX...</td>\n",
       "      <td>False</td>\n",
       "      <td>https://www.yelp.com/biz/tom-tom-west-hollywoo...</td>\n",
       "      <td>842</td>\n",
       "      <td>[{'alias': 'bars', 'title': 'Bars'}, {'alias':...</td>\n",
       "      <td>3.5</td>\n",
       "      <td>{'latitude': 34.08407, 'longitude': -118.38491}</td>\n",
       "      <td>[delivery]</td>\n",
       "      <td>$$$</td>\n",
       "      <td>{'address1': '8932 Santa Monica Blvd', 'addres...</td>\n",
       "      <td>+13105438152</td>\n",
       "      <td>(310) 543-8152</td>\n",
       "      <td>34466.299476</td>\n",
       "    </tr>\n",
       "    <tr>\n",
       "      <th>979</th>\n",
       "      <td>_C-dloWW7NeSov8JPsh9mw</td>\n",
       "      <td>king-mediterrano-torrance-6</td>\n",
       "      <td>King Mediterrano</td>\n",
       "      <td>https://s3-media2.fl.yelpcdn.com/bphoto/2Gpkxs...</td>\n",
       "      <td>False</td>\n",
       "      <td>https://www.yelp.com/biz/king-mediterrano-torr...</td>\n",
       "      <td>1440</td>\n",
       "      <td>[{'alias': 'mideastern', 'title': 'Middle East...</td>\n",
       "      <td>4.5</td>\n",
       "      <td>{'latitude': 33.8741130815074, 'longitude': -1...</td>\n",
       "      <td>[pickup, delivery]</td>\n",
       "      <td>$$</td>\n",
       "      <td>{'address1': '4354 Redondo Beach Blvd', 'addre...</td>\n",
       "      <td>+13103709438</td>\n",
       "      <td>(310) 370-9438</td>\n",
       "      <td>41123.305625</td>\n",
       "    </tr>\n",
       "  </tbody>\n",
       "</table>\n",
       "</div>"
      ],
      "text/plain": [
       "                         id                               alias  \\\n",
       "975  _sla9w3jpglCnRQ7wqE_JA          funnel-mill-santa-monica-3   \n",
       "976  mlpe75EZ88Lvf-vw7fckYg   cronies-sports-grill-agoura-hills   \n",
       "977  50nZ4jdBYe6AuN0r3--KWg  turquoise-restaurant-redondo-beach   \n",
       "978  xYdqVZtjXPv6M5Gd5pTQIQ              tom-tom-west-hollywood   \n",
       "979  _C-dloWW7NeSov8JPsh9mw         king-mediterrano-torrance-6   \n",
       "\n",
       "                     name                                          image_url  \\\n",
       "975           Funnel Mill  https://s3-media4.fl.yelpcdn.com/bphoto/B6SXwV...   \n",
       "976  Cronies Sports Grill  https://s3-media3.fl.yelpcdn.com/bphoto/Tcjn87...   \n",
       "977  Turquoise Restaurant  https://s3-media1.fl.yelpcdn.com/bphoto/eX26Om...   \n",
       "978               Tom Tom  https://s3-media3.fl.yelpcdn.com/bphoto/deVMvX...   \n",
       "979      King Mediterrano  https://s3-media2.fl.yelpcdn.com/bphoto/2Gpkxs...   \n",
       "\n",
       "     is_closed                                                url  \\\n",
       "975      False  https://www.yelp.com/biz/funnel-mill-santa-mon...   \n",
       "976      False  https://www.yelp.com/biz/cronies-sports-grill-...   \n",
       "977      False  https://www.yelp.com/biz/turquoise-restaurant-...   \n",
       "978      False  https://www.yelp.com/biz/tom-tom-west-hollywoo...   \n",
       "979      False  https://www.yelp.com/biz/king-mediterrano-torr...   \n",
       "\n",
       "     review_count                                         categories  rating  \\\n",
       "975           758     [{'alias': 'coffee', 'title': 'Coffee & Tea'}]     4.5   \n",
       "976           246  [{'alias': 'tradamerican', 'title': 'American ...     3.5   \n",
       "977           664  [{'alias': 'mediterranean', 'title': 'Mediterr...     4.5   \n",
       "978           842  [{'alias': 'bars', 'title': 'Bars'}, {'alias':...     3.5   \n",
       "979          1440  [{'alias': 'mideastern', 'title': 'Middle East...     4.5   \n",
       "\n",
       "                                           coordinates        transactions  \\\n",
       "975  {'latitude': 34.0194183, 'longitude': -118.488...  [pickup, delivery]   \n",
       "976    {'latitude': 34.15421, 'longitude': -118.75876}  [pickup, delivery]   \n",
       "977  {'latitude': 33.8173044046163, 'longitude': -1...            [pickup]   \n",
       "978    {'latitude': 34.08407, 'longitude': -118.38491}          [delivery]   \n",
       "979  {'latitude': 33.8741130815074, 'longitude': -1...  [pickup, delivery]   \n",
       "\n",
       "    price                                           location         phone  \\\n",
       "975    $$  {'address1': '930 Broadway', 'address2': 'Ste ...  +13103931617   \n",
       "976    $$  {'address1': '5687 Kanan Rd', 'address2': '', ...  +18188890889   \n",
       "977    $$  {'address1': '1735 S Catalina Ave', 'address2'...  +13103733234   \n",
       "978   $$$  {'address1': '8932 Santa Monica Blvd', 'addres...  +13105438152   \n",
       "979    $$  {'address1': '4354 Redondo Beach Blvd', 'addre...  +13103709438   \n",
       "\n",
       "      display_phone      distance  \n",
       "975  (310) 393-1617  24560.965989  \n",
       "976  (818) 889-0889  13469.274948  \n",
       "977  (310) 373-3234  41428.278838  \n",
       "978  (310) 543-8152  34466.299476  \n",
       "979  (310) 370-9438  41123.305625  "
      ]
     },
     "metadata": {},
     "output_type": "display_data"
    }
   ],
   "source": [
    "# convert json to df\n",
    "df = pd.read_json(JSON_FILE)\n",
    "display(df.head(), df.tail())"
   ]
  },
  {
   "cell_type": "code",
   "execution_count": 29,
   "id": "ff56fea1",
   "metadata": {},
   "outputs": [
    {
     "data": {
      "text/plain": [
       "0"
      ]
     },
     "execution_count": 29,
     "metadata": {},
     "output_type": "execute_result"
    }
   ],
   "source": [
    "# check for dupes based on id#\n",
    "df.duplicated(subset='id').sum()"
   ]
  },
  {
   "cell_type": "code",
   "execution_count": 30,
   "id": "727e5e3e",
   "metadata": {},
   "outputs": [],
   "source": [
    "# save as a .csv.gz\n",
    "df.to_csv('Data/final_results_brunch.csv.gz',\n",
    "         compression='gzip', index=False)"
   ]
  },
  {
   "cell_type": "code",
   "execution_count": null,
   "id": "c2d25b72",
   "metadata": {},
   "outputs": [],
   "source": []
  }
 ],
 "metadata": {
  "kernelspec": {
   "display_name": "Python (dojo-env)",
   "language": "python",
   "name": "dojo-env"
  },
  "language_info": {
   "codemirror_mode": {
    "name": "ipython",
    "version": 3
   },
   "file_extension": ".py",
   "mimetype": "text/x-python",
   "name": "python",
   "nbconvert_exporter": "python",
   "pygments_lexer": "ipython3",
   "version": "3.7.12"
  },
  "toc": {
   "base_numbering": 1,
   "nav_menu": {},
   "number_sections": true,
   "sideBar": true,
   "skip_h1_title": false,
   "title_cell": "Table of Contents",
   "title_sidebar": "Contents",
   "toc_cell": false,
   "toc_position": {},
   "toc_section_display": true,
   "toc_window_display": false
  }
 },
 "nbformat": 4,
 "nbformat_minor": 5
}
